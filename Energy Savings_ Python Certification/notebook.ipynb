{
 "cells": [
  {
   "cell_type": "markdown",
   "metadata": {
    "dc": {
     "key": "4"
    },
    "deletable": false,
    "editable": false,
    "run_control": {
     "frozen": true
    },
    "tags": [
     "context"
    ]
   },
   "source": [
    "## Energy saved from recycling\n",
    "<p>Did you know that recycling saves energy by reducing or eliminating the need to make materials from scratch? For example, aluminum can manufacturers can skip the energy-costly process of producing aluminum from ore by cleaning and melting recycled cans. Aluminum is classified as a non-ferrous metal.</p>\n",
    "<p>Singapore has an ambitious goal of becoming a zero-waste nation. The amount of waste disposed of in Singapore has increased seven-fold over the last 40 years. At this rate, Semakau Landfill, Singapore’s only landfill, will run out of space by 2035. Making matters worse, Singapore has limited land for building new incineration plants or landfills.</p>\n",
    "<p>The government would like to motivate citizens by sharing the total energy that the combined recycling efforts have saved every year. They have asked you to help them.</p>\n",
    "<p>You have been provided with three datasets. The data come from different teams, so the names of waste types may differ.</p>\n",
    "<div style=\"background-color: #efebe4; color: #05192d; text-align:left; vertical-align: middle; padding: 15px 25px 15px 25px; line-height: 1.6;\">\n",
    "    <div style=\"font-size:16px\"><b>datasets/wastestats.csv - Recycling statistics per waste type for the period 2003 to 2017</b>\n",
    "    </div>\n",
    "    <div>Source: <a href=\"https://www.nea.gov.sg/our-services/waste-management/waste-statistics-and-overall-recycling\">Singapore National Environment Agency</a></div>\n",
    "<ul>\n",
    "    <li><b>waste_type: </b>The type of waste recycled.</li>\n",
    "    <li><b>waste_disposed_of_tonne: </b>The amount of waste that could not be recycled (in metric tonnes).</li>\n",
    "    <li><b>total_waste_recycle_tonne: </b>The amount of waste that could be recycled (in metric tonnes).</li>\n",
    "    <li><b>total_waste_generated: </b>The total amount of waste collected before recycling (in metric tonnes).</li>\n",
    "    <li><b>recycling_rate: </b>The amount of waste recycled per tonne of waste generated.</li>\n",
    "    <li><b>year: </b>The recycling year.</li>\n",
    "</ul>\n",
    "    </div>\n",
    "<div style=\"background-color: #efebe4; color: #05192d; text-align:left; vertical-align: middle; padding: 15px 25px 15px 25px; line-height: 1.6; margin-top: 17px;\">\n",
    "    <div style=\"font-size:16px\"><b>datasets/2018_2019_waste.csv - Recycling statistics per waste type for the period 2018 to 2019</b>\n",
    "    </div>\n",
    "    <div> Source: <a href=\"https://www.nea.gov.sg/our-services/waste-management/waste-statistics-and-overall-recycling\">Singapore National Environment Agency</a></div>\n",
    "<ul>\n",
    "    <li><b>Waste Type: </b>The type of waste recycled.</li>\n",
    "    <li><b>Total Generated: </b>The total amount of waste collected before recycling (in thousands of metric tonnes).</li> \n",
    "    <li><b>Total Recycled: </b>The amount of waste that could be recycled. (in thousands of metric tonnes).</li>\n",
    "    <li><b>Year: </b>The recycling year.</li>\n",
    "</ul>\n",
    "    </div>\n",
    "<div style=\"background-color: #efebe4; color: #05192d; text-align:left; vertical-align: middle; padding: 15px 25px 15px 25px; line-height: 1.6; margin-top: 17px;\">\n",
    "    <div style=\"font-size:16px\"><b>datasets/energy_saved.csv -  Estimations of the amount of energy saved per waste type in kWh</b>\n",
    "    </div>\n",
    "<ul>\n",
    "    <li><b>material: </b>The type of waste recycled.</li>\n",
    "    <li><b>energy_saved: </b>An estimate of the energy saved (in kiloWatt hour) by recycling a metric tonne of waste.</li> \n",
    "    <li><b>crude_oil_saved: </b>An estimate of the number of barrels of oil saved by recycling a metric tonne of waste.</li>\n",
    "</ul>\n",
    "\n",
    "</div>\n",
    "<pre><code>\n",
    "</code></pre>"
   ]
  },
  {
   "cell_type": "code",
   "execution_count": 2,
   "metadata": {
    "collapsed": true,
    "dc": {
     "key": "4"
    },
    "tags": [
     "sample_code"
    ]
   },
   "outputs": [],
   "source": [
    "import pandas as pd \n",
    "import numpy as np"
   ]
  },
  {
   "cell_type": "code",
   "execution_count": 3,
   "metadata": {
    "collapsed": true,
    "dc": {
     "key": "4"
    }
   },
   "outputs": [],
   "source": [
    "waste17 = pd.read_csv(\"datasets/wastestats.csv\")\n",
    "waste19 = pd.read_csv(\"datasets/2018_2019_waste.csv\")\n",
    "energy = pd.read_csv(\"datasets/energy_saved.csv\")"
   ]
  },
  {
   "cell_type": "markdown",
   "metadata": {
    "dc": {
     "key": "4"
    }
   },
   "source": [
    "# We'll start by wrangling our first dataset "
   ]
  },
  {
   "cell_type": "code",
   "execution_count": 4,
   "metadata": {
    "dc": {
     "key": "4"
    }
   },
   "outputs": [
    {
     "data": {
      "text/html": [
       "<div>\n",
       "<style scoped>\n",
       "    .dataframe tbody tr th:only-of-type {\n",
       "        vertical-align: middle;\n",
       "    }\n",
       "\n",
       "    .dataframe tbody tr th {\n",
       "        vertical-align: top;\n",
       "    }\n",
       "\n",
       "    .dataframe thead th {\n",
       "        text-align: right;\n",
       "    }\n",
       "</style>\n",
       "<table border=\"1\" class=\"dataframe\">\n",
       "  <thead>\n",
       "    <tr style=\"text-align: right;\">\n",
       "      <th></th>\n",
       "      <th>waste_type</th>\n",
       "      <th>waste_disposed_of_tonne</th>\n",
       "      <th>total_waste_recycled_tonne</th>\n",
       "      <th>total_waste_generated_tonne</th>\n",
       "      <th>recycling_rate</th>\n",
       "      <th>year</th>\n",
       "    </tr>\n",
       "  </thead>\n",
       "  <tbody>\n",
       "    <tr>\n",
       "      <th>0</th>\n",
       "      <td>Food</td>\n",
       "      <td>679900</td>\n",
       "      <td>111100.0</td>\n",
       "      <td>791000</td>\n",
       "      <td>0.14</td>\n",
       "      <td>2016</td>\n",
       "    </tr>\n",
       "    <tr>\n",
       "      <th>1</th>\n",
       "      <td>Paper/Cardboard</td>\n",
       "      <td>576000</td>\n",
       "      <td>607100.0</td>\n",
       "      <td>1183100</td>\n",
       "      <td>0.51</td>\n",
       "      <td>2016</td>\n",
       "    </tr>\n",
       "    <tr>\n",
       "      <th>2</th>\n",
       "      <td>Plastics</td>\n",
       "      <td>762700</td>\n",
       "      <td>59500.0</td>\n",
       "      <td>822200</td>\n",
       "      <td>0.07</td>\n",
       "      <td>2016</td>\n",
       "    </tr>\n",
       "    <tr>\n",
       "      <th>3</th>\n",
       "      <td>C&amp;D</td>\n",
       "      <td>9700</td>\n",
       "      <td>1585700.0</td>\n",
       "      <td>1595400</td>\n",
       "      <td>0.99</td>\n",
       "      <td>2016</td>\n",
       "    </tr>\n",
       "    <tr>\n",
       "      <th>4</th>\n",
       "      <td>Horticultural waste</td>\n",
       "      <td>111500</td>\n",
       "      <td>209000.0</td>\n",
       "      <td>320500</td>\n",
       "      <td>0.65</td>\n",
       "      <td>2016</td>\n",
       "    </tr>\n",
       "  </tbody>\n",
       "</table>\n",
       "</div>"
      ],
      "text/plain": [
       "            waste_type  waste_disposed_of_tonne  total_waste_recycled_tonne  \\\n",
       "0                 Food                   679900                    111100.0   \n",
       "1      Paper/Cardboard                   576000                    607100.0   \n",
       "2             Plastics                   762700                     59500.0   \n",
       "3                  C&D                     9700                   1585700.0   \n",
       "4  Horticultural waste                   111500                    209000.0   \n",
       "\n",
       "   total_waste_generated_tonne  recycling_rate  year  \n",
       "0                       791000            0.14  2016  \n",
       "1                      1183100            0.51  2016  \n",
       "2                       822200            0.07  2016  \n",
       "3                      1595400            0.99  2016  \n",
       "4                       320500            0.65  2016  "
      ]
     },
     "execution_count": 4,
     "metadata": {},
     "output_type": "execute_result"
    }
   ],
   "source": [
    "waste17.head()"
   ]
  },
  {
   "cell_type": "code",
   "execution_count": 5,
   "metadata": {
    "dc": {
     "key": "4"
    }
   },
   "outputs": [
    {
     "name": "stdout",
     "output_type": "stream",
     "text": [
      "<class 'pandas.core.frame.DataFrame'>\n",
      "RangeIndex: 225 entries, 0 to 224\n",
      "Data columns (total 6 columns):\n",
      "waste_type                     225 non-null object\n",
      "waste_disposed_of_tonne        225 non-null int64\n",
      "total_waste_recycled_tonne     225 non-null float64\n",
      "total_waste_generated_tonne    225 non-null int64\n",
      "recycling_rate                 225 non-null float64\n",
      "year                           225 non-null int64\n",
      "dtypes: float64(2), int64(3), object(1)\n",
      "memory usage: 10.6+ KB\n"
     ]
    }
   ],
   "source": [
    "waste17.info()"
   ]
  },
  {
   "cell_type": "code",
   "execution_count": 6,
   "metadata": {
    "collapsed": true,
    "dc": {
     "key": "4"
    }
   },
   "outputs": [],
   "source": [
    "waste17.drop(['waste_disposed_of_tonne', 'total_waste_generated_tonne', 'recycling_rate'], axis=1, inplace = True)"
   ]
  },
  {
   "cell_type": "code",
   "execution_count": 7,
   "metadata": {
    "dc": {
     "key": "4"
    },
    "scrolled": true
   },
   "outputs": [
    {
     "data": {
      "text/html": [
       "<div>\n",
       "<style scoped>\n",
       "    .dataframe tbody tr th:only-of-type {\n",
       "        vertical-align: middle;\n",
       "    }\n",
       "\n",
       "    .dataframe tbody tr th {\n",
       "        vertical-align: top;\n",
       "    }\n",
       "\n",
       "    .dataframe thead th {\n",
       "        text-align: right;\n",
       "    }\n",
       "</style>\n",
       "<table border=\"1\" class=\"dataframe\">\n",
       "  <thead>\n",
       "    <tr style=\"text-align: right;\">\n",
       "      <th></th>\n",
       "      <th>waste_type</th>\n",
       "      <th>total_waste_recycled_tonne</th>\n",
       "      <th>year</th>\n",
       "    </tr>\n",
       "  </thead>\n",
       "  <tbody>\n",
       "    <tr>\n",
       "      <th>0</th>\n",
       "      <td>Food</td>\n",
       "      <td>111100.0</td>\n",
       "      <td>2016</td>\n",
       "    </tr>\n",
       "    <tr>\n",
       "      <th>1</th>\n",
       "      <td>Paper/Cardboard</td>\n",
       "      <td>607100.0</td>\n",
       "      <td>2016</td>\n",
       "    </tr>\n",
       "    <tr>\n",
       "      <th>2</th>\n",
       "      <td>Plastics</td>\n",
       "      <td>59500.0</td>\n",
       "      <td>2016</td>\n",
       "    </tr>\n",
       "    <tr>\n",
       "      <th>3</th>\n",
       "      <td>C&amp;D</td>\n",
       "      <td>1585700.0</td>\n",
       "      <td>2016</td>\n",
       "    </tr>\n",
       "    <tr>\n",
       "      <th>4</th>\n",
       "      <td>Horticultural waste</td>\n",
       "      <td>209000.0</td>\n",
       "      <td>2016</td>\n",
       "    </tr>\n",
       "  </tbody>\n",
       "</table>\n",
       "</div>"
      ],
      "text/plain": [
       "            waste_type  total_waste_recycled_tonne  year\n",
       "0                 Food                    111100.0  2016\n",
       "1      Paper/Cardboard                    607100.0  2016\n",
       "2             Plastics                     59500.0  2016\n",
       "3                  C&D                   1585700.0  2016\n",
       "4  Horticultural waste                    209000.0  2016"
      ]
     },
     "execution_count": 7,
     "metadata": {},
     "output_type": "execute_result"
    }
   ],
   "source": [
    "waste17.head()"
   ]
  },
  {
   "cell_type": "code",
   "execution_count": 8,
   "metadata": {
    "dc": {
     "key": "4"
    }
   },
   "outputs": [
    {
     "data": {
      "text/html": [
       "<div>\n",
       "<style scoped>\n",
       "    .dataframe tbody tr th:only-of-type {\n",
       "        vertical-align: middle;\n",
       "    }\n",
       "\n",
       "    .dataframe tbody tr th {\n",
       "        vertical-align: top;\n",
       "    }\n",
       "\n",
       "    .dataframe thead th {\n",
       "        text-align: right;\n",
       "    }\n",
       "</style>\n",
       "<table border=\"1\" class=\"dataframe\">\n",
       "  <thead>\n",
       "    <tr style=\"text-align: right;\">\n",
       "      <th></th>\n",
       "      <th>waste_type</th>\n",
       "      <th>year</th>\n",
       "      <th>total_waste_recycled_tonne</th>\n",
       "    </tr>\n",
       "  </thead>\n",
       "  <tbody>\n",
       "    <tr>\n",
       "      <th>0</th>\n",
       "      <td>Food</td>\n",
       "      <td>2016</td>\n",
       "      <td>111100.0</td>\n",
       "    </tr>\n",
       "    <tr>\n",
       "      <th>1</th>\n",
       "      <td>Paper/Cardboard</td>\n",
       "      <td>2016</td>\n",
       "      <td>607100.0</td>\n",
       "    </tr>\n",
       "    <tr>\n",
       "      <th>2</th>\n",
       "      <td>Plastics</td>\n",
       "      <td>2016</td>\n",
       "      <td>59500.0</td>\n",
       "    </tr>\n",
       "    <tr>\n",
       "      <th>3</th>\n",
       "      <td>C&amp;D</td>\n",
       "      <td>2016</td>\n",
       "      <td>1585700.0</td>\n",
       "    </tr>\n",
       "    <tr>\n",
       "      <th>4</th>\n",
       "      <td>Horticultural waste</td>\n",
       "      <td>2016</td>\n",
       "      <td>209000.0</td>\n",
       "    </tr>\n",
       "  </tbody>\n",
       "</table>\n",
       "</div>"
      ],
      "text/plain": [
       "            waste_type  year  total_waste_recycled_tonne\n",
       "0                 Food  2016                    111100.0\n",
       "1      Paper/Cardboard  2016                    607100.0\n",
       "2             Plastics  2016                     59500.0\n",
       "3                  C&D  2016                   1585700.0\n",
       "4  Horticultural waste  2016                    209000.0"
      ]
     },
     "execution_count": 8,
     "metadata": {},
     "output_type": "execute_result"
    }
   ],
   "source": [
    "waste17 = waste17[['waste_type', 'year', 'total_waste_recycled_tonne']] \n",
    "waste17.head()"
   ]
  },
  {
   "cell_type": "code",
   "execution_count": 9,
   "metadata": {
    "collapsed": true,
    "dc": {
     "key": "4"
    }
   },
   "outputs": [],
   "source": [
    "waste17.columns = ['Waste_type', 'Year', 'Total_recycled']"
   ]
  },
  {
   "cell_type": "code",
   "execution_count": 10,
   "metadata": {
    "dc": {
     "key": "4"
    }
   },
   "outputs": [
    {
     "data": {
      "text/html": [
       "<div>\n",
       "<style scoped>\n",
       "    .dataframe tbody tr th:only-of-type {\n",
       "        vertical-align: middle;\n",
       "    }\n",
       "\n",
       "    .dataframe tbody tr th {\n",
       "        vertical-align: top;\n",
       "    }\n",
       "\n",
       "    .dataframe thead th {\n",
       "        text-align: right;\n",
       "    }\n",
       "</style>\n",
       "<table border=\"1\" class=\"dataframe\">\n",
       "  <thead>\n",
       "    <tr style=\"text-align: right;\">\n",
       "      <th></th>\n",
       "      <th>Waste_type</th>\n",
       "      <th>Year</th>\n",
       "      <th>Total_recycled</th>\n",
       "    </tr>\n",
       "  </thead>\n",
       "  <tbody>\n",
       "    <tr>\n",
       "      <th>2</th>\n",
       "      <td>Plastics</td>\n",
       "      <td>2016</td>\n",
       "      <td>59500.0</td>\n",
       "    </tr>\n",
       "    <tr>\n",
       "      <th>10</th>\n",
       "      <td>Glass</td>\n",
       "      <td>2016</td>\n",
       "      <td>14700.0</td>\n",
       "    </tr>\n",
       "    <tr>\n",
       "      <th>17</th>\n",
       "      <td>Plastics</td>\n",
       "      <td>2015</td>\n",
       "      <td>57800.0</td>\n",
       "    </tr>\n",
       "    <tr>\n",
       "      <th>25</th>\n",
       "      <td>Glass</td>\n",
       "      <td>2015</td>\n",
       "      <td>14600.0</td>\n",
       "    </tr>\n",
       "    <tr>\n",
       "      <th>32</th>\n",
       "      <td>Plastics</td>\n",
       "      <td>2014</td>\n",
       "      <td>80000.0</td>\n",
       "    </tr>\n",
       "    <tr>\n",
       "      <th>40</th>\n",
       "      <td>Glass</td>\n",
       "      <td>2014</td>\n",
       "      <td>15700.0</td>\n",
       "    </tr>\n",
       "    <tr>\n",
       "      <th>47</th>\n",
       "      <td>Plastics</td>\n",
       "      <td>2013</td>\n",
       "      <td>91100.0</td>\n",
       "    </tr>\n",
       "    <tr>\n",
       "      <th>51</th>\n",
       "      <td>Ferrous Metal</td>\n",
       "      <td>2013</td>\n",
       "      <td>1369200.0</td>\n",
       "    </tr>\n",
       "    <tr>\n",
       "      <th>55</th>\n",
       "      <td>Glass</td>\n",
       "      <td>2013</td>\n",
       "      <td>14600.0</td>\n",
       "    </tr>\n",
       "    <tr>\n",
       "      <th>62</th>\n",
       "      <td>Plastics</td>\n",
       "      <td>2012</td>\n",
       "      <td>82100.0</td>\n",
       "    </tr>\n",
       "    <tr>\n",
       "      <th>66</th>\n",
       "      <td>Ferrous Metal</td>\n",
       "      <td>2012</td>\n",
       "      <td>1331200.0</td>\n",
       "    </tr>\n",
       "    <tr>\n",
       "      <th>70</th>\n",
       "      <td>Glass</td>\n",
       "      <td>2012</td>\n",
       "      <td>19500.0</td>\n",
       "    </tr>\n",
       "    <tr>\n",
       "      <th>77</th>\n",
       "      <td>Plastics</td>\n",
       "      <td>2011</td>\n",
       "      <td>77000.0</td>\n",
       "    </tr>\n",
       "    <tr>\n",
       "      <th>81</th>\n",
       "      <td>Ferrous Metal</td>\n",
       "      <td>2011</td>\n",
       "      <td>1171600.0</td>\n",
       "    </tr>\n",
       "    <tr>\n",
       "      <th>85</th>\n",
       "      <td>Glass</td>\n",
       "      <td>2011</td>\n",
       "      <td>21400.0</td>\n",
       "    </tr>\n",
       "    <tr>\n",
       "      <th>92</th>\n",
       "      <td>Plastics</td>\n",
       "      <td>2010</td>\n",
       "      <td>78100.0</td>\n",
       "    </tr>\n",
       "    <tr>\n",
       "      <th>96</th>\n",
       "      <td>Ferrous Metal</td>\n",
       "      <td>2010</td>\n",
       "      <td>1127500.0</td>\n",
       "    </tr>\n",
       "    <tr>\n",
       "      <th>100</th>\n",
       "      <td>Glass</td>\n",
       "      <td>2010</td>\n",
       "      <td>19200.0</td>\n",
       "    </tr>\n",
       "    <tr>\n",
       "      <th>107</th>\n",
       "      <td>Plastics</td>\n",
       "      <td>2009</td>\n",
       "      <td>60300.0</td>\n",
       "    </tr>\n",
       "    <tr>\n",
       "      <th>111</th>\n",
       "      <td>Ferrous Metal</td>\n",
       "      <td>2009</td>\n",
       "      <td>806200.0</td>\n",
       "    </tr>\n",
       "    <tr>\n",
       "      <th>115</th>\n",
       "      <td>Glass</td>\n",
       "      <td>2009</td>\n",
       "      <td>15600.0</td>\n",
       "    </tr>\n",
       "    <tr>\n",
       "      <th>122</th>\n",
       "      <td>Plastics</td>\n",
       "      <td>2008</td>\n",
       "      <td>61200.0</td>\n",
       "    </tr>\n",
       "    <tr>\n",
       "      <th>126</th>\n",
       "      <td>Ferrous Metal</td>\n",
       "      <td>2008</td>\n",
       "      <td>735000.0</td>\n",
       "    </tr>\n",
       "    <tr>\n",
       "      <th>130</th>\n",
       "      <td>Glass</td>\n",
       "      <td>2008</td>\n",
       "      <td>10000.0</td>\n",
       "    </tr>\n",
       "    <tr>\n",
       "      <th>137</th>\n",
       "      <td>Plastics</td>\n",
       "      <td>2007</td>\n",
       "      <td>75000.0</td>\n",
       "    </tr>\n",
       "    <tr>\n",
       "      <th>141</th>\n",
       "      <td>Ferrous Metal</td>\n",
       "      <td>2007</td>\n",
       "      <td>668000.0</td>\n",
       "    </tr>\n",
       "    <tr>\n",
       "      <th>145</th>\n",
       "      <td>Glass</td>\n",
       "      <td>2007</td>\n",
       "      <td>5800.0</td>\n",
       "    </tr>\n",
       "    <tr>\n",
       "      <th>152</th>\n",
       "      <td>Plastics</td>\n",
       "      <td>2006</td>\n",
       "      <td>77800.0</td>\n",
       "    </tr>\n",
       "    <tr>\n",
       "      <th>160</th>\n",
       "      <td>Glass</td>\n",
       "      <td>2006</td>\n",
       "      <td>6400.0</td>\n",
       "    </tr>\n",
       "    <tr>\n",
       "      <th>167</th>\n",
       "      <td>Plastics</td>\n",
       "      <td>2005</td>\n",
       "      <td>86000.0</td>\n",
       "    </tr>\n",
       "    <tr>\n",
       "      <th>175</th>\n",
       "      <td>Glass</td>\n",
       "      <td>2005</td>\n",
       "      <td>3800.0</td>\n",
       "    </tr>\n",
       "    <tr>\n",
       "      <th>182</th>\n",
       "      <td>Plastics</td>\n",
       "      <td>2004</td>\n",
       "      <td>74100.0</td>\n",
       "    </tr>\n",
       "    <tr>\n",
       "      <th>190</th>\n",
       "      <td>Glass</td>\n",
       "      <td>2004</td>\n",
       "      <td>4900.0</td>\n",
       "    </tr>\n",
       "    <tr>\n",
       "      <th>197</th>\n",
       "      <td>Plastics</td>\n",
       "      <td>2003</td>\n",
       "      <td>39100.0</td>\n",
       "    </tr>\n",
       "    <tr>\n",
       "      <th>205</th>\n",
       "      <td>Glass</td>\n",
       "      <td>2003</td>\n",
       "      <td>6200.0</td>\n",
       "    </tr>\n",
       "    <tr>\n",
       "      <th>218</th>\n",
       "      <td>Glass</td>\n",
       "      <td>2017</td>\n",
       "      <td>12400.0</td>\n",
       "    </tr>\n",
       "  </tbody>\n",
       "</table>\n",
       "</div>"
      ],
      "text/plain": [
       "        Waste_type  Year  Total_recycled\n",
       "2         Plastics  2016         59500.0\n",
       "10           Glass  2016         14700.0\n",
       "17        Plastics  2015         57800.0\n",
       "25           Glass  2015         14600.0\n",
       "32        Plastics  2014         80000.0\n",
       "40           Glass  2014         15700.0\n",
       "47        Plastics  2013         91100.0\n",
       "51   Ferrous Metal  2013       1369200.0\n",
       "55           Glass  2013         14600.0\n",
       "62        Plastics  2012         82100.0\n",
       "66   Ferrous Metal  2012       1331200.0\n",
       "70           Glass  2012         19500.0\n",
       "77        Plastics  2011         77000.0\n",
       "81   Ferrous Metal  2011       1171600.0\n",
       "85           Glass  2011         21400.0\n",
       "92        Plastics  2010         78100.0\n",
       "96   Ferrous Metal  2010       1127500.0\n",
       "100          Glass  2010         19200.0\n",
       "107       Plastics  2009         60300.0\n",
       "111  Ferrous Metal  2009        806200.0\n",
       "115          Glass  2009         15600.0\n",
       "122       Plastics  2008         61200.0\n",
       "126  Ferrous Metal  2008        735000.0\n",
       "130          Glass  2008         10000.0\n",
       "137       Plastics  2007         75000.0\n",
       "141  Ferrous Metal  2007        668000.0\n",
       "145          Glass  2007          5800.0\n",
       "152       Plastics  2006         77800.0\n",
       "160          Glass  2006          6400.0\n",
       "167       Plastics  2005         86000.0\n",
       "175          Glass  2005          3800.0\n",
       "182       Plastics  2004         74100.0\n",
       "190          Glass  2004          4900.0\n",
       "197       Plastics  2003         39100.0\n",
       "205          Glass  2003          6200.0\n",
       "218          Glass  2017         12400.0"
      ]
     },
     "execution_count": 10,
     "metadata": {},
     "output_type": "execute_result"
    }
   ],
   "source": [
    "x = waste17[(waste17['Waste_type'] == 'Plastics')  | (waste17['Waste_type'] == 'Glass') | (waste17['Waste_type'] == 'Ferrous Metal') | (waste17['Waste_type'] == 'Non-Ferrous Metal')]\n",
    "x"
   ]
  },
  {
   "cell_type": "code",
   "execution_count": 11,
   "metadata": {
    "dc": {
     "key": "4"
    }
   },
   "outputs": [
    {
     "data": {
      "text/html": [
       "<div>\n",
       "<style scoped>\n",
       "    .dataframe tbody tr th:only-of-type {\n",
       "        vertical-align: middle;\n",
       "    }\n",
       "\n",
       "    .dataframe tbody tr th {\n",
       "        vertical-align: top;\n",
       "    }\n",
       "\n",
       "    .dataframe thead th {\n",
       "        text-align: right;\n",
       "    }\n",
       "</style>\n",
       "<table border=\"1\" class=\"dataframe\">\n",
       "  <thead>\n",
       "    <tr style=\"text-align: right;\">\n",
       "      <th></th>\n",
       "      <th>Waste_type</th>\n",
       "      <th>Year</th>\n",
       "      <th>Total_recycled</th>\n",
       "    </tr>\n",
       "  </thead>\n",
       "  <tbody>\n",
       "    <tr>\n",
       "      <th>0</th>\n",
       "      <td>Plastics</td>\n",
       "      <td>2016</td>\n",
       "      <td>59500.0</td>\n",
       "    </tr>\n",
       "    <tr>\n",
       "      <th>1</th>\n",
       "      <td>Glass</td>\n",
       "      <td>2016</td>\n",
       "      <td>14700.0</td>\n",
       "    </tr>\n",
       "    <tr>\n",
       "      <th>2</th>\n",
       "      <td>Plastics</td>\n",
       "      <td>2015</td>\n",
       "      <td>57800.0</td>\n",
       "    </tr>\n",
       "    <tr>\n",
       "      <th>3</th>\n",
       "      <td>Glass</td>\n",
       "      <td>2015</td>\n",
       "      <td>14600.0</td>\n",
       "    </tr>\n",
       "    <tr>\n",
       "      <th>4</th>\n",
       "      <td>Plastics</td>\n",
       "      <td>2014</td>\n",
       "      <td>80000.0</td>\n",
       "    </tr>\n",
       "    <tr>\n",
       "      <th>5</th>\n",
       "      <td>Glass</td>\n",
       "      <td>2014</td>\n",
       "      <td>15700.0</td>\n",
       "    </tr>\n",
       "    <tr>\n",
       "      <th>6</th>\n",
       "      <td>Plastics</td>\n",
       "      <td>2013</td>\n",
       "      <td>91100.0</td>\n",
       "    </tr>\n",
       "    <tr>\n",
       "      <th>7</th>\n",
       "      <td>Ferrous Metal</td>\n",
       "      <td>2013</td>\n",
       "      <td>1369200.0</td>\n",
       "    </tr>\n",
       "    <tr>\n",
       "      <th>8</th>\n",
       "      <td>Glass</td>\n",
       "      <td>2013</td>\n",
       "      <td>14600.0</td>\n",
       "    </tr>\n",
       "    <tr>\n",
       "      <th>9</th>\n",
       "      <td>Plastics</td>\n",
       "      <td>2012</td>\n",
       "      <td>82100.0</td>\n",
       "    </tr>\n",
       "    <tr>\n",
       "      <th>10</th>\n",
       "      <td>Ferrous Metal</td>\n",
       "      <td>2012</td>\n",
       "      <td>1331200.0</td>\n",
       "    </tr>\n",
       "    <tr>\n",
       "      <th>11</th>\n",
       "      <td>Glass</td>\n",
       "      <td>2012</td>\n",
       "      <td>19500.0</td>\n",
       "    </tr>\n",
       "    <tr>\n",
       "      <th>12</th>\n",
       "      <td>Plastics</td>\n",
       "      <td>2011</td>\n",
       "      <td>77000.0</td>\n",
       "    </tr>\n",
       "    <tr>\n",
       "      <th>13</th>\n",
       "      <td>Ferrous Metal</td>\n",
       "      <td>2011</td>\n",
       "      <td>1171600.0</td>\n",
       "    </tr>\n",
       "    <tr>\n",
       "      <th>14</th>\n",
       "      <td>Glass</td>\n",
       "      <td>2011</td>\n",
       "      <td>21400.0</td>\n",
       "    </tr>\n",
       "    <tr>\n",
       "      <th>15</th>\n",
       "      <td>Plastics</td>\n",
       "      <td>2010</td>\n",
       "      <td>78100.0</td>\n",
       "    </tr>\n",
       "    <tr>\n",
       "      <th>16</th>\n",
       "      <td>Ferrous Metal</td>\n",
       "      <td>2010</td>\n",
       "      <td>1127500.0</td>\n",
       "    </tr>\n",
       "    <tr>\n",
       "      <th>17</th>\n",
       "      <td>Glass</td>\n",
       "      <td>2010</td>\n",
       "      <td>19200.0</td>\n",
       "    </tr>\n",
       "    <tr>\n",
       "      <th>18</th>\n",
       "      <td>Plastics</td>\n",
       "      <td>2009</td>\n",
       "      <td>60300.0</td>\n",
       "    </tr>\n",
       "    <tr>\n",
       "      <th>19</th>\n",
       "      <td>Ferrous Metal</td>\n",
       "      <td>2009</td>\n",
       "      <td>806200.0</td>\n",
       "    </tr>\n",
       "    <tr>\n",
       "      <th>20</th>\n",
       "      <td>Glass</td>\n",
       "      <td>2009</td>\n",
       "      <td>15600.0</td>\n",
       "    </tr>\n",
       "    <tr>\n",
       "      <th>21</th>\n",
       "      <td>Plastics</td>\n",
       "      <td>2008</td>\n",
       "      <td>61200.0</td>\n",
       "    </tr>\n",
       "    <tr>\n",
       "      <th>22</th>\n",
       "      <td>Ferrous Metal</td>\n",
       "      <td>2008</td>\n",
       "      <td>735000.0</td>\n",
       "    </tr>\n",
       "    <tr>\n",
       "      <th>23</th>\n",
       "      <td>Glass</td>\n",
       "      <td>2008</td>\n",
       "      <td>10000.0</td>\n",
       "    </tr>\n",
       "    <tr>\n",
       "      <th>24</th>\n",
       "      <td>Plastics</td>\n",
       "      <td>2007</td>\n",
       "      <td>75000.0</td>\n",
       "    </tr>\n",
       "    <tr>\n",
       "      <th>25</th>\n",
       "      <td>Ferrous Metal</td>\n",
       "      <td>2007</td>\n",
       "      <td>668000.0</td>\n",
       "    </tr>\n",
       "    <tr>\n",
       "      <th>26</th>\n",
       "      <td>Glass</td>\n",
       "      <td>2007</td>\n",
       "      <td>5800.0</td>\n",
       "    </tr>\n",
       "    <tr>\n",
       "      <th>27</th>\n",
       "      <td>Plastics</td>\n",
       "      <td>2006</td>\n",
       "      <td>77800.0</td>\n",
       "    </tr>\n",
       "    <tr>\n",
       "      <th>28</th>\n",
       "      <td>Glass</td>\n",
       "      <td>2006</td>\n",
       "      <td>6400.0</td>\n",
       "    </tr>\n",
       "    <tr>\n",
       "      <th>29</th>\n",
       "      <td>Plastics</td>\n",
       "      <td>2005</td>\n",
       "      <td>86000.0</td>\n",
       "    </tr>\n",
       "    <tr>\n",
       "      <th>30</th>\n",
       "      <td>Glass</td>\n",
       "      <td>2005</td>\n",
       "      <td>3800.0</td>\n",
       "    </tr>\n",
       "    <tr>\n",
       "      <th>31</th>\n",
       "      <td>Plastics</td>\n",
       "      <td>2004</td>\n",
       "      <td>74100.0</td>\n",
       "    </tr>\n",
       "    <tr>\n",
       "      <th>32</th>\n",
       "      <td>Glass</td>\n",
       "      <td>2004</td>\n",
       "      <td>4900.0</td>\n",
       "    </tr>\n",
       "    <tr>\n",
       "      <th>33</th>\n",
       "      <td>Plastics</td>\n",
       "      <td>2003</td>\n",
       "      <td>39100.0</td>\n",
       "    </tr>\n",
       "    <tr>\n",
       "      <th>34</th>\n",
       "      <td>Glass</td>\n",
       "      <td>2003</td>\n",
       "      <td>6200.0</td>\n",
       "    </tr>\n",
       "    <tr>\n",
       "      <th>35</th>\n",
       "      <td>Glass</td>\n",
       "      <td>2017</td>\n",
       "      <td>12400.0</td>\n",
       "    </tr>\n",
       "  </tbody>\n",
       "</table>\n",
       "</div>"
      ],
      "text/plain": [
       "       Waste_type  Year  Total_recycled\n",
       "0        Plastics  2016         59500.0\n",
       "1           Glass  2016         14700.0\n",
       "2        Plastics  2015         57800.0\n",
       "3           Glass  2015         14600.0\n",
       "4        Plastics  2014         80000.0\n",
       "5           Glass  2014         15700.0\n",
       "6        Plastics  2013         91100.0\n",
       "7   Ferrous Metal  2013       1369200.0\n",
       "8           Glass  2013         14600.0\n",
       "9        Plastics  2012         82100.0\n",
       "10  Ferrous Metal  2012       1331200.0\n",
       "11          Glass  2012         19500.0\n",
       "12       Plastics  2011         77000.0\n",
       "13  Ferrous Metal  2011       1171600.0\n",
       "14          Glass  2011         21400.0\n",
       "15       Plastics  2010         78100.0\n",
       "16  Ferrous Metal  2010       1127500.0\n",
       "17          Glass  2010         19200.0\n",
       "18       Plastics  2009         60300.0\n",
       "19  Ferrous Metal  2009        806200.0\n",
       "20          Glass  2009         15600.0\n",
       "21       Plastics  2008         61200.0\n",
       "22  Ferrous Metal  2008        735000.0\n",
       "23          Glass  2008         10000.0\n",
       "24       Plastics  2007         75000.0\n",
       "25  Ferrous Metal  2007        668000.0\n",
       "26          Glass  2007          5800.0\n",
       "27       Plastics  2006         77800.0\n",
       "28          Glass  2006          6400.0\n",
       "29       Plastics  2005         86000.0\n",
       "30          Glass  2005          3800.0\n",
       "31       Plastics  2004         74100.0\n",
       "32          Glass  2004          4900.0\n",
       "33       Plastics  2003         39100.0\n",
       "34          Glass  2003          6200.0\n",
       "35          Glass  2017         12400.0"
      ]
     },
     "execution_count": 11,
     "metadata": {},
     "output_type": "execute_result"
    }
   ],
   "source": [
    "x.reset_index(drop=True)"
   ]
  },
  {
   "cell_type": "code",
   "execution_count": 12,
   "metadata": {
    "dc": {
     "key": "4"
    }
   },
   "outputs": [
    {
     "data": {
      "text/plain": [
       "(36, 3)"
      ]
     },
     "execution_count": 12,
     "metadata": {},
     "output_type": "execute_result"
    }
   ],
   "source": [
    "x.shape"
   ]
  },
  {
   "cell_type": "markdown",
   "metadata": {
    "dc": {
     "key": "4"
    }
   },
   "source": [
    "# let's start with our second dataset "
   ]
  },
  {
   "cell_type": "code",
   "execution_count": 13,
   "metadata": {
    "dc": {
     "key": "4"
    }
   },
   "outputs": [
    {
     "data": {
      "text/html": [
       "<div>\n",
       "<style scoped>\n",
       "    .dataframe tbody tr th:only-of-type {\n",
       "        vertical-align: middle;\n",
       "    }\n",
       "\n",
       "    .dataframe tbody tr th {\n",
       "        vertical-align: top;\n",
       "    }\n",
       "\n",
       "    .dataframe thead th {\n",
       "        text-align: right;\n",
       "    }\n",
       "</style>\n",
       "<table border=\"1\" class=\"dataframe\">\n",
       "  <thead>\n",
       "    <tr style=\"text-align: right;\">\n",
       "      <th></th>\n",
       "      <th>Waste Type</th>\n",
       "      <th>Total Generated ('000 tonnes)</th>\n",
       "      <th>Total Recycled ('000 tonnes)</th>\n",
       "      <th>Year</th>\n",
       "    </tr>\n",
       "  </thead>\n",
       "  <tbody>\n",
       "    <tr>\n",
       "      <th>0</th>\n",
       "      <td>Construction&amp; Demolition</td>\n",
       "      <td>1440</td>\n",
       "      <td>1434</td>\n",
       "      <td>2019</td>\n",
       "    </tr>\n",
       "    <tr>\n",
       "      <th>1</th>\n",
       "      <td>Ferrous Metal</td>\n",
       "      <td>1278</td>\n",
       "      <td>1270</td>\n",
       "      <td>2019</td>\n",
       "    </tr>\n",
       "    <tr>\n",
       "      <th>2</th>\n",
       "      <td>Paper/Cardboard</td>\n",
       "      <td>1011</td>\n",
       "      <td>449</td>\n",
       "      <td>2019</td>\n",
       "    </tr>\n",
       "    <tr>\n",
       "      <th>3</th>\n",
       "      <td>Plastics</td>\n",
       "      <td>930</td>\n",
       "      <td>37</td>\n",
       "      <td>2019</td>\n",
       "    </tr>\n",
       "    <tr>\n",
       "      <th>4</th>\n",
       "      <td>Food</td>\n",
       "      <td>7440</td>\n",
       "      <td>136</td>\n",
       "      <td>2019</td>\n",
       "    </tr>\n",
       "  </tbody>\n",
       "</table>\n",
       "</div>"
      ],
      "text/plain": [
       "                 Waste Type  Total Generated ('000 tonnes)  \\\n",
       "0  Construction& Demolition                           1440   \n",
       "1             Ferrous Metal                           1278   \n",
       "2           Paper/Cardboard                           1011   \n",
       "3                  Plastics                            930   \n",
       "4                      Food                           7440   \n",
       "\n",
       "   Total Recycled ('000 tonnes)  Year  \n",
       "0                          1434  2019  \n",
       "1                          1270  2019  \n",
       "2                           449  2019  \n",
       "3                            37  2019  \n",
       "4                           136  2019  "
      ]
     },
     "execution_count": 13,
     "metadata": {},
     "output_type": "execute_result"
    }
   ],
   "source": [
    "waste19.head()"
   ]
  },
  {
   "cell_type": "code",
   "execution_count": 14,
   "metadata": {
    "dc": {
     "key": "4"
    }
   },
   "outputs": [
    {
     "name": "stdout",
     "output_type": "stream",
     "text": [
      "<class 'pandas.core.frame.DataFrame'>\n",
      "RangeIndex: 30 entries, 0 to 29\n",
      "Data columns (total 4 columns):\n",
      "Waste Type                       30 non-null object\n",
      "Total Generated ('000 tonnes)    30 non-null int64\n",
      "Total Recycled ('000 tonnes)     30 non-null int64\n",
      "Year                             30 non-null int64\n",
      "dtypes: int64(3), object(1)\n",
      "memory usage: 1.0+ KB\n"
     ]
    }
   ],
   "source": [
    "waste19.info()"
   ]
  },
  {
   "cell_type": "code",
   "execution_count": 15,
   "metadata": {
    "collapsed": true,
    "dc": {
     "key": "4"
    }
   },
   "outputs": [],
   "source": [
    "waste19.columns = ['Waste_type', 'Total_generated', 'Total_recycled', 'Year']"
   ]
  },
  {
   "cell_type": "code",
   "execution_count": 16,
   "metadata": {
    "collapsed": true,
    "dc": {
     "key": "4"
    }
   },
   "outputs": [],
   "source": [
    "waste19.drop('Total_generated', axis =1, inplace = True )"
   ]
  },
  {
   "cell_type": "code",
   "execution_count": 17,
   "metadata": {
    "collapsed": true,
    "dc": {
     "key": "4"
    }
   },
   "outputs": [],
   "source": [
    "waste19.Total_recycled = waste19.Total_recycled * 1000"
   ]
  },
  {
   "cell_type": "code",
   "execution_count": 18,
   "metadata": {
    "dc": {
     "key": "4"
    }
   },
   "outputs": [
    {
     "data": {
      "text/html": [
       "<div>\n",
       "<style scoped>\n",
       "    .dataframe tbody tr th:only-of-type {\n",
       "        vertical-align: middle;\n",
       "    }\n",
       "\n",
       "    .dataframe tbody tr th {\n",
       "        vertical-align: top;\n",
       "    }\n",
       "\n",
       "    .dataframe thead th {\n",
       "        text-align: right;\n",
       "    }\n",
       "</style>\n",
       "<table border=\"1\" class=\"dataframe\">\n",
       "  <thead>\n",
       "    <tr style=\"text-align: right;\">\n",
       "      <th></th>\n",
       "      <th>Waste_type</th>\n",
       "      <th>Total_recycled</th>\n",
       "      <th>Year</th>\n",
       "    </tr>\n",
       "  </thead>\n",
       "  <tbody>\n",
       "    <tr>\n",
       "      <th>0</th>\n",
       "      <td>Construction&amp; Demolition</td>\n",
       "      <td>1434000</td>\n",
       "      <td>2019</td>\n",
       "    </tr>\n",
       "    <tr>\n",
       "      <th>1</th>\n",
       "      <td>Ferrous Metal</td>\n",
       "      <td>1270000</td>\n",
       "      <td>2019</td>\n",
       "    </tr>\n",
       "    <tr>\n",
       "      <th>2</th>\n",
       "      <td>Paper/Cardboard</td>\n",
       "      <td>449000</td>\n",
       "      <td>2019</td>\n",
       "    </tr>\n",
       "    <tr>\n",
       "      <th>3</th>\n",
       "      <td>Plastics</td>\n",
       "      <td>37000</td>\n",
       "      <td>2019</td>\n",
       "    </tr>\n",
       "    <tr>\n",
       "      <th>4</th>\n",
       "      <td>Food</td>\n",
       "      <td>136000</td>\n",
       "      <td>2019</td>\n",
       "    </tr>\n",
       "  </tbody>\n",
       "</table>\n",
       "</div>"
      ],
      "text/plain": [
       "                 Waste_type  Total_recycled  Year\n",
       "0  Construction& Demolition         1434000  2019\n",
       "1             Ferrous Metal         1270000  2019\n",
       "2           Paper/Cardboard          449000  2019\n",
       "3                  Plastics           37000  2019\n",
       "4                      Food          136000  2019"
      ]
     },
     "execution_count": 18,
     "metadata": {},
     "output_type": "execute_result"
    }
   ],
   "source": [
    "waste19.head()"
   ]
  },
  {
   "cell_type": "code",
   "execution_count": 19,
   "metadata": {
    "dc": {
     "key": "4"
    }
   },
   "outputs": [
    {
     "data": {
      "text/html": [
       "<div>\n",
       "<style scoped>\n",
       "    .dataframe tbody tr th:only-of-type {\n",
       "        vertical-align: middle;\n",
       "    }\n",
       "\n",
       "    .dataframe tbody tr th {\n",
       "        vertical-align: top;\n",
       "    }\n",
       "\n",
       "    .dataframe thead th {\n",
       "        text-align: right;\n",
       "    }\n",
       "</style>\n",
       "<table border=\"1\" class=\"dataframe\">\n",
       "  <thead>\n",
       "    <tr style=\"text-align: right;\">\n",
       "      <th></th>\n",
       "      <th>Waste_type</th>\n",
       "      <th>Total_recycled</th>\n",
       "      <th>Year</th>\n",
       "    </tr>\n",
       "  </thead>\n",
       "  <tbody>\n",
       "    <tr>\n",
       "      <th>1</th>\n",
       "      <td>Ferrous Metal</td>\n",
       "      <td>1270000</td>\n",
       "      <td>2019</td>\n",
       "    </tr>\n",
       "    <tr>\n",
       "      <th>3</th>\n",
       "      <td>Plastics</td>\n",
       "      <td>37000</td>\n",
       "      <td>2019</td>\n",
       "    </tr>\n",
       "    <tr>\n",
       "      <th>10</th>\n",
       "      <td>Non-Ferrous Metal</td>\n",
       "      <td>124000</td>\n",
       "      <td>2019</td>\n",
       "    </tr>\n",
       "    <tr>\n",
       "      <th>11</th>\n",
       "      <td>Glass</td>\n",
       "      <td>11000</td>\n",
       "      <td>2019</td>\n",
       "    </tr>\n",
       "    <tr>\n",
       "      <th>16</th>\n",
       "      <td>Ferrous Metal</td>\n",
       "      <td>126000</td>\n",
       "      <td>2018</td>\n",
       "    </tr>\n",
       "    <tr>\n",
       "      <th>18</th>\n",
       "      <td>Plastics</td>\n",
       "      <td>41000</td>\n",
       "      <td>2018</td>\n",
       "    </tr>\n",
       "    <tr>\n",
       "      <th>25</th>\n",
       "      <td>Non-Ferrous Metal</td>\n",
       "      <td>170000</td>\n",
       "      <td>2018</td>\n",
       "    </tr>\n",
       "    <tr>\n",
       "      <th>26</th>\n",
       "      <td>Glass</td>\n",
       "      <td>12000</td>\n",
       "      <td>2018</td>\n",
       "    </tr>\n",
       "  </tbody>\n",
       "</table>\n",
       "</div>"
      ],
      "text/plain": [
       "           Waste_type  Total_recycled  Year\n",
       "1       Ferrous Metal         1270000  2019\n",
       "3            Plastics           37000  2019\n",
       "10  Non-Ferrous Metal          124000  2019\n",
       "11              Glass           11000  2019\n",
       "16      Ferrous Metal          126000  2018\n",
       "18           Plastics           41000  2018\n",
       "25  Non-Ferrous Metal          170000  2018\n",
       "26              Glass           12000  2018"
      ]
     },
     "execution_count": 19,
     "metadata": {},
     "output_type": "execute_result"
    }
   ],
   "source": [
    "y = waste19[(waste19['Waste_type'] == 'Plastics')  | (waste19['Waste_type'] == 'Glass') | (waste19['Waste_type'] == 'Ferrous Metal') | (waste19['Waste_type'] == 'Non-Ferrous Metal')]\n",
    "y"
   ]
  },
  {
   "cell_type": "code",
   "execution_count": 20,
   "metadata": {
    "dc": {
     "key": "4"
    }
   },
   "outputs": [
    {
     "data": {
      "text/plain": [
       "(8, 3)"
      ]
     },
     "execution_count": 20,
     "metadata": {},
     "output_type": "execute_result"
    }
   ],
   "source": [
    "y.reset_index(drop=True)\n",
    "y.shape"
   ]
  },
  {
   "cell_type": "markdown",
   "metadata": {
    "dc": {
     "key": "4"
    }
   },
   "source": [
    "> After we wrangled both our datasets its time to merge both and to order them "
   ]
  },
  {
   "cell_type": "code",
   "execution_count": 21,
   "metadata": {
    "dc": {
     "key": "4"
    }
   },
   "outputs": [
    {
     "data": {
      "text/html": [
       "<div>\n",
       "<style scoped>\n",
       "    .dataframe tbody tr th:only-of-type {\n",
       "        vertical-align: middle;\n",
       "    }\n",
       "\n",
       "    .dataframe tbody tr th {\n",
       "        vertical-align: top;\n",
       "    }\n",
       "\n",
       "    .dataframe thead th {\n",
       "        text-align: right;\n",
       "    }\n",
       "</style>\n",
       "<table border=\"1\" class=\"dataframe\">\n",
       "  <thead>\n",
       "    <tr style=\"text-align: right;\">\n",
       "      <th></th>\n",
       "      <th>Total_recycled</th>\n",
       "      <th>Waste_type</th>\n",
       "      <th>Year</th>\n",
       "    </tr>\n",
       "  </thead>\n",
       "  <tbody>\n",
       "    <tr>\n",
       "      <th>0</th>\n",
       "      <td>59500.0</td>\n",
       "      <td>Plastics</td>\n",
       "      <td>2016</td>\n",
       "    </tr>\n",
       "    <tr>\n",
       "      <th>1</th>\n",
       "      <td>14700.0</td>\n",
       "      <td>Glass</td>\n",
       "      <td>2016</td>\n",
       "    </tr>\n",
       "    <tr>\n",
       "      <th>2</th>\n",
       "      <td>57800.0</td>\n",
       "      <td>Plastics</td>\n",
       "      <td>2015</td>\n",
       "    </tr>\n",
       "    <tr>\n",
       "      <th>3</th>\n",
       "      <td>14600.0</td>\n",
       "      <td>Glass</td>\n",
       "      <td>2015</td>\n",
       "    </tr>\n",
       "    <tr>\n",
       "      <th>4</th>\n",
       "      <td>80000.0</td>\n",
       "      <td>Plastics</td>\n",
       "      <td>2014</td>\n",
       "    </tr>\n",
       "  </tbody>\n",
       "</table>\n",
       "</div>"
      ],
      "text/plain": [
       "   Total_recycled Waste_type  Year\n",
       "0         59500.0   Plastics  2016\n",
       "1         14700.0      Glass  2016\n",
       "2         57800.0   Plastics  2015\n",
       "3         14600.0      Glass  2015\n",
       "4         80000.0   Plastics  2014"
      ]
     },
     "execution_count": 21,
     "metadata": {},
     "output_type": "execute_result"
    }
   ],
   "source": [
    "waste = pd.concat([x, y], join = 'outer', ignore_index = True)\n",
    "waste.head()"
   ]
  },
  {
   "cell_type": "code",
   "execution_count": 22,
   "metadata": {
    "dc": {
     "key": "4"
    }
   },
   "outputs": [
    {
     "name": "stdout",
     "output_type": "stream",
     "text": [
      "<class 'pandas.core.frame.DataFrame'>\n",
      "RangeIndex: 44 entries, 0 to 43\n",
      "Data columns (total 3 columns):\n",
      "Total_recycled    44 non-null float64\n",
      "Waste_type        44 non-null object\n",
      "Year              44 non-null int64\n",
      "dtypes: float64(1), int64(1), object(1)\n",
      "memory usage: 1.1+ KB\n"
     ]
    }
   ],
   "source": [
    "waste.info()"
   ]
  },
  {
   "cell_type": "code",
   "execution_count": 23,
   "metadata": {
    "collapsed": true,
    "dc": {
     "key": "4"
    }
   },
   "outputs": [],
   "source": [
    "waste['Year'] = waste.Year.astype('int64')"
   ]
  },
  {
   "cell_type": "code",
   "execution_count": 24,
   "metadata": {
    "collapsed": true,
    "dc": {
     "key": "4"
    }
   },
   "outputs": [],
   "source": [
    "waste = waste[waste.Year > 2014]"
   ]
  },
  {
   "cell_type": "code",
   "execution_count": 25,
   "metadata": {
    "dc": {
     "key": "4"
    }
   },
   "outputs": [
    {
     "data": {
      "text/plain": [
       "(13, 3)"
      ]
     },
     "execution_count": 25,
     "metadata": {},
     "output_type": "execute_result"
    }
   ],
   "source": [
    "waste.shape"
   ]
  },
  {
   "cell_type": "code",
   "execution_count": 26,
   "metadata": {
    "dc": {
     "key": "4"
    }
   },
   "outputs": [
    {
     "data": {
      "text/html": [
       "<div>\n",
       "<style scoped>\n",
       "    .dataframe tbody tr th:only-of-type {\n",
       "        vertical-align: middle;\n",
       "    }\n",
       "\n",
       "    .dataframe tbody tr th {\n",
       "        vertical-align: top;\n",
       "    }\n",
       "\n",
       "    .dataframe thead th {\n",
       "        text-align: right;\n",
       "    }\n",
       "</style>\n",
       "<table border=\"1\" class=\"dataframe\">\n",
       "  <thead>\n",
       "    <tr style=\"text-align: right;\">\n",
       "      <th></th>\n",
       "      <th>Total_recycled</th>\n",
       "      <th>Waste_type</th>\n",
       "      <th>Year</th>\n",
       "    </tr>\n",
       "  </thead>\n",
       "  <tbody>\n",
       "    <tr>\n",
       "      <th>0</th>\n",
       "      <td>59500.0</td>\n",
       "      <td>Plastics</td>\n",
       "      <td>2016</td>\n",
       "    </tr>\n",
       "    <tr>\n",
       "      <th>1</th>\n",
       "      <td>14700.0</td>\n",
       "      <td>Glass</td>\n",
       "      <td>2016</td>\n",
       "    </tr>\n",
       "    <tr>\n",
       "      <th>2</th>\n",
       "      <td>57800.0</td>\n",
       "      <td>Plastics</td>\n",
       "      <td>2015</td>\n",
       "    </tr>\n",
       "    <tr>\n",
       "      <th>3</th>\n",
       "      <td>14600.0</td>\n",
       "      <td>Glass</td>\n",
       "      <td>2015</td>\n",
       "    </tr>\n",
       "    <tr>\n",
       "      <th>35</th>\n",
       "      <td>12400.0</td>\n",
       "      <td>Glass</td>\n",
       "      <td>2017</td>\n",
       "    </tr>\n",
       "    <tr>\n",
       "      <th>36</th>\n",
       "      <td>1270000.0</td>\n",
       "      <td>Ferrous Metal</td>\n",
       "      <td>2019</td>\n",
       "    </tr>\n",
       "    <tr>\n",
       "      <th>37</th>\n",
       "      <td>37000.0</td>\n",
       "      <td>Plastics</td>\n",
       "      <td>2019</td>\n",
       "    </tr>\n",
       "    <tr>\n",
       "      <th>38</th>\n",
       "      <td>124000.0</td>\n",
       "      <td>Non-Ferrous Metal</td>\n",
       "      <td>2019</td>\n",
       "    </tr>\n",
       "    <tr>\n",
       "      <th>39</th>\n",
       "      <td>11000.0</td>\n",
       "      <td>Glass</td>\n",
       "      <td>2019</td>\n",
       "    </tr>\n",
       "    <tr>\n",
       "      <th>40</th>\n",
       "      <td>126000.0</td>\n",
       "      <td>Ferrous Metal</td>\n",
       "      <td>2018</td>\n",
       "    </tr>\n",
       "    <tr>\n",
       "      <th>41</th>\n",
       "      <td>41000.0</td>\n",
       "      <td>Plastics</td>\n",
       "      <td>2018</td>\n",
       "    </tr>\n",
       "    <tr>\n",
       "      <th>42</th>\n",
       "      <td>170000.0</td>\n",
       "      <td>Non-Ferrous Metal</td>\n",
       "      <td>2018</td>\n",
       "    </tr>\n",
       "    <tr>\n",
       "      <th>43</th>\n",
       "      <td>12000.0</td>\n",
       "      <td>Glass</td>\n",
       "      <td>2018</td>\n",
       "    </tr>\n",
       "  </tbody>\n",
       "</table>\n",
       "</div>"
      ],
      "text/plain": [
       "    Total_recycled         Waste_type  Year\n",
       "0          59500.0           Plastics  2016\n",
       "1          14700.0              Glass  2016\n",
       "2          57800.0           Plastics  2015\n",
       "3          14600.0              Glass  2015\n",
       "35         12400.0              Glass  2017\n",
       "36       1270000.0      Ferrous Metal  2019\n",
       "37         37000.0           Plastics  2019\n",
       "38        124000.0  Non-Ferrous Metal  2019\n",
       "39         11000.0              Glass  2019\n",
       "40        126000.0      Ferrous Metal  2018\n",
       "41         41000.0           Plastics  2018\n",
       "42        170000.0  Non-Ferrous Metal  2018\n",
       "43         12000.0              Glass  2018"
      ]
     },
     "execution_count": 26,
     "metadata": {},
     "output_type": "execute_result"
    }
   ],
   "source": [
    "waste"
   ]
  },
  {
   "cell_type": "code",
   "execution_count": 27,
   "metadata": {
    "collapsed": true,
    "dc": {
     "key": "4"
    }
   },
   "outputs": [],
   "source": [
    "waste = waste.groupby(['Year','Waste_type'])[ 'Total_recycled'].sum()\n"
   ]
  },
  {
   "cell_type": "code",
   "execution_count": 28,
   "metadata": {
    "collapsed": true,
    "dc": {
     "key": "4"
    }
   },
   "outputs": [],
   "source": [
    "waste = pd.DataFrame(waste)"
   ]
  },
  {
   "cell_type": "code",
   "execution_count": 29,
   "metadata": {
    "dc": {
     "key": "4"
    }
   },
   "outputs": [
    {
     "data": {
      "text/html": [
       "<div>\n",
       "<style scoped>\n",
       "    .dataframe tbody tr th:only-of-type {\n",
       "        vertical-align: middle;\n",
       "    }\n",
       "\n",
       "    .dataframe tbody tr th {\n",
       "        vertical-align: top;\n",
       "    }\n",
       "\n",
       "    .dataframe thead th {\n",
       "        text-align: right;\n",
       "    }\n",
       "</style>\n",
       "<table border=\"1\" class=\"dataframe\">\n",
       "  <thead>\n",
       "    <tr style=\"text-align: right;\">\n",
       "      <th></th>\n",
       "      <th></th>\n",
       "      <th>Total_recycled</th>\n",
       "    </tr>\n",
       "    <tr>\n",
       "      <th>Year</th>\n",
       "      <th>Waste_type</th>\n",
       "      <th></th>\n",
       "    </tr>\n",
       "  </thead>\n",
       "  <tbody>\n",
       "    <tr>\n",
       "      <th rowspan=\"2\" valign=\"top\">2015</th>\n",
       "      <th>Glass</th>\n",
       "      <td>14600.0</td>\n",
       "    </tr>\n",
       "    <tr>\n",
       "      <th>Plastics</th>\n",
       "      <td>57800.0</td>\n",
       "    </tr>\n",
       "    <tr>\n",
       "      <th rowspan=\"2\" valign=\"top\">2016</th>\n",
       "      <th>Glass</th>\n",
       "      <td>14700.0</td>\n",
       "    </tr>\n",
       "    <tr>\n",
       "      <th>Plastics</th>\n",
       "      <td>59500.0</td>\n",
       "    </tr>\n",
       "    <tr>\n",
       "      <th>2017</th>\n",
       "      <th>Glass</th>\n",
       "      <td>12400.0</td>\n",
       "    </tr>\n",
       "    <tr>\n",
       "      <th rowspan=\"4\" valign=\"top\">2018</th>\n",
       "      <th>Ferrous Metal</th>\n",
       "      <td>126000.0</td>\n",
       "    </tr>\n",
       "    <tr>\n",
       "      <th>Glass</th>\n",
       "      <td>12000.0</td>\n",
       "    </tr>\n",
       "    <tr>\n",
       "      <th>Non-Ferrous Metal</th>\n",
       "      <td>170000.0</td>\n",
       "    </tr>\n",
       "    <tr>\n",
       "      <th>Plastics</th>\n",
       "      <td>41000.0</td>\n",
       "    </tr>\n",
       "    <tr>\n",
       "      <th rowspan=\"4\" valign=\"top\">2019</th>\n",
       "      <th>Ferrous Metal</th>\n",
       "      <td>1270000.0</td>\n",
       "    </tr>\n",
       "    <tr>\n",
       "      <th>Glass</th>\n",
       "      <td>11000.0</td>\n",
       "    </tr>\n",
       "    <tr>\n",
       "      <th>Non-Ferrous Metal</th>\n",
       "      <td>124000.0</td>\n",
       "    </tr>\n",
       "    <tr>\n",
       "      <th>Plastics</th>\n",
       "      <td>37000.0</td>\n",
       "    </tr>\n",
       "  </tbody>\n",
       "</table>\n",
       "</div>"
      ],
      "text/plain": [
       "                        Total_recycled\n",
       "Year Waste_type                       \n",
       "2015 Glass                     14600.0\n",
       "     Plastics                  57800.0\n",
       "2016 Glass                     14700.0\n",
       "     Plastics                  59500.0\n",
       "2017 Glass                     12400.0\n",
       "2018 Ferrous Metal            126000.0\n",
       "     Glass                     12000.0\n",
       "     Non-Ferrous Metal        170000.0\n",
       "     Plastics                  41000.0\n",
       "2019 Ferrous Metal           1270000.0\n",
       "     Glass                     11000.0\n",
       "     Non-Ferrous Metal        124000.0\n",
       "     Plastics                  37000.0"
      ]
     },
     "execution_count": 29,
     "metadata": {},
     "output_type": "execute_result"
    }
   ],
   "source": [
    "waste"
   ]
  },
  {
   "cell_type": "markdown",
   "metadata": {
    "dc": {
     "key": "4"
    }
   },
   "source": [
    "# energy_saved dataset"
   ]
  },
  {
   "cell_type": "code",
   "execution_count": 30,
   "metadata": {
    "dc": {
     "key": "4"
    }
   },
   "outputs": [
    {
     "data": {
      "text/html": [
       "<div>\n",
       "<style scoped>\n",
       "    .dataframe tbody tr th:only-of-type {\n",
       "        vertical-align: middle;\n",
       "    }\n",
       "\n",
       "    .dataframe tbody tr th {\n",
       "        vertical-align: top;\n",
       "    }\n",
       "\n",
       "    .dataframe thead th {\n",
       "        text-align: right;\n",
       "    }\n",
       "</style>\n",
       "<table border=\"1\" class=\"dataframe\">\n",
       "  <thead>\n",
       "    <tr style=\"text-align: right;\">\n",
       "      <th></th>\n",
       "      <th>The table gives the amount of energy saved in kilowatt hour (kWh) and the amount of crude oil (barrels) by recycling 1 metric tonne (1000 kilogram)  per waste type</th>\n",
       "      <th>Unnamed: 1</th>\n",
       "      <th>Unnamed: 2</th>\n",
       "      <th>Unnamed: 3</th>\n",
       "      <th>Unnamed: 4</th>\n",
       "      <th>Unnamed: 5</th>\n",
       "    </tr>\n",
       "  </thead>\n",
       "  <tbody>\n",
       "    <tr>\n",
       "      <th>0</th>\n",
       "      <td>1 barrel oil is approximately 159 litres of oil</td>\n",
       "      <td>NaN</td>\n",
       "      <td>NaN</td>\n",
       "      <td>NaN</td>\n",
       "      <td>NaN</td>\n",
       "      <td>NaN</td>\n",
       "    </tr>\n",
       "    <tr>\n",
       "      <th>1</th>\n",
       "      <td>NaN</td>\n",
       "      <td>NaN</td>\n",
       "      <td>NaN</td>\n",
       "      <td>NaN</td>\n",
       "      <td>NaN</td>\n",
       "      <td>NaN</td>\n",
       "    </tr>\n",
       "    <tr>\n",
       "      <th>2</th>\n",
       "      <td>material</td>\n",
       "      <td>Plastic</td>\n",
       "      <td>Glass</td>\n",
       "      <td>Ferrous Metal</td>\n",
       "      <td>Non-Ferrous Metal</td>\n",
       "      <td>Paper</td>\n",
       "    </tr>\n",
       "    <tr>\n",
       "      <th>3</th>\n",
       "      <td>energy_saved</td>\n",
       "      <td>5774 Kwh</td>\n",
       "      <td>42 Kwh</td>\n",
       "      <td>642 Kwh</td>\n",
       "      <td>14000 Kwh</td>\n",
       "      <td>4000 kWh</td>\n",
       "    </tr>\n",
       "    <tr>\n",
       "      <th>4</th>\n",
       "      <td>crude_oil saved</td>\n",
       "      <td>16 barrels</td>\n",
       "      <td>NaN</td>\n",
       "      <td>1.8 barrels</td>\n",
       "      <td>40 barrels</td>\n",
       "      <td>1.7 barrels</td>\n",
       "    </tr>\n",
       "  </tbody>\n",
       "</table>\n",
       "</div>"
      ],
      "text/plain": [
       "  The table gives the amount of energy saved in kilowatt hour (kWh) and the amount of crude oil (barrels) by recycling 1 metric tonne (1000 kilogram)  per waste type  \\\n",
       "0    1 barrel oil is approximately 159 litres of oil                                                                                                                    \n",
       "1                                                NaN                                                                                                                    \n",
       "2                                           material                                                                                                                    \n",
       "3                                       energy_saved                                                                                                                    \n",
       "4                                    crude_oil saved                                                                                                                    \n",
       "\n",
       "   Unnamed: 1 Unnamed: 2     Unnamed: 3         Unnamed: 4   Unnamed: 5  \n",
       "0         NaN        NaN            NaN                NaN          NaN  \n",
       "1         NaN        NaN            NaN                NaN          NaN  \n",
       "2     Plastic      Glass  Ferrous Metal  Non-Ferrous Metal        Paper  \n",
       "3    5774 Kwh     42 Kwh        642 Kwh          14000 Kwh     4000 kWh  \n",
       "4  16 barrels        NaN    1.8 barrels         40 barrels  1.7 barrels  "
      ]
     },
     "execution_count": 30,
     "metadata": {},
     "output_type": "execute_result"
    }
   ],
   "source": [
    "energy.head()"
   ]
  },
  {
   "cell_type": "code",
   "execution_count": 31,
   "metadata": {
    "dc": {
     "key": "4"
    }
   },
   "outputs": [
    {
     "name": "stdout",
     "output_type": "stream",
     "text": [
      "<class 'pandas.core.frame.DataFrame'>\n",
      "RangeIndex: 5 entries, 0 to 4\n",
      "Data columns (total 6 columns):\n",
      "The table gives the amount of energy saved in kilowatt hour (kWh) and the amount of crude oil (barrels) by recycling 1 metric tonne (1000 kilogram)  per waste type    4 non-null object\n",
      "Unnamed: 1                                                                                                                                                             3 non-null object\n",
      "Unnamed: 2                                                                                                                                                             2 non-null object\n",
      "Unnamed: 3                                                                                                                                                             3 non-null object\n",
      "Unnamed: 4                                                                                                                                                             3 non-null object\n",
      "Unnamed: 5                                                                                                                                                             3 non-null object\n",
      "dtypes: object(6)\n",
      "memory usage: 320.0+ bytes\n"
     ]
    }
   ],
   "source": [
    "energy.info()"
   ]
  },
  {
   "cell_type": "code",
   "execution_count": 32,
   "metadata": {
    "collapsed": true,
    "dc": {
     "key": "4"
    }
   },
   "outputs": [],
   "source": [
    "energy.columns = ['0', '1', '2', '3', '4', '5']"
   ]
  },
  {
   "cell_type": "code",
   "execution_count": 33,
   "metadata": {
    "dc": {
     "key": "4"
    }
   },
   "outputs": [
    {
     "data": {
      "text/html": [
       "<div>\n",
       "<style scoped>\n",
       "    .dataframe tbody tr th:only-of-type {\n",
       "        vertical-align: middle;\n",
       "    }\n",
       "\n",
       "    .dataframe tbody tr th {\n",
       "        vertical-align: top;\n",
       "    }\n",
       "\n",
       "    .dataframe thead th {\n",
       "        text-align: right;\n",
       "    }\n",
       "</style>\n",
       "<table border=\"1\" class=\"dataframe\">\n",
       "  <thead>\n",
       "    <tr style=\"text-align: right;\">\n",
       "      <th></th>\n",
       "      <th>0</th>\n",
       "      <th>1</th>\n",
       "      <th>2</th>\n",
       "      <th>3</th>\n",
       "      <th>4</th>\n",
       "      <th>5</th>\n",
       "    </tr>\n",
       "  </thead>\n",
       "  <tbody>\n",
       "    <tr>\n",
       "      <th>0</th>\n",
       "      <td>1 barrel oil is approximately 159 litres of oil</td>\n",
       "      <td>NaN</td>\n",
       "      <td>NaN</td>\n",
       "      <td>NaN</td>\n",
       "      <td>NaN</td>\n",
       "      <td>NaN</td>\n",
       "    </tr>\n",
       "    <tr>\n",
       "      <th>1</th>\n",
       "      <td>NaN</td>\n",
       "      <td>NaN</td>\n",
       "      <td>NaN</td>\n",
       "      <td>NaN</td>\n",
       "      <td>NaN</td>\n",
       "      <td>NaN</td>\n",
       "    </tr>\n",
       "    <tr>\n",
       "      <th>2</th>\n",
       "      <td>material</td>\n",
       "      <td>Plastic</td>\n",
       "      <td>Glass</td>\n",
       "      <td>Ferrous Metal</td>\n",
       "      <td>Non-Ferrous Metal</td>\n",
       "      <td>Paper</td>\n",
       "    </tr>\n",
       "    <tr>\n",
       "      <th>3</th>\n",
       "      <td>energy_saved</td>\n",
       "      <td>5774 Kwh</td>\n",
       "      <td>42 Kwh</td>\n",
       "      <td>642 Kwh</td>\n",
       "      <td>14000 Kwh</td>\n",
       "      <td>4000 kWh</td>\n",
       "    </tr>\n",
       "    <tr>\n",
       "      <th>4</th>\n",
       "      <td>crude_oil saved</td>\n",
       "      <td>16 barrels</td>\n",
       "      <td>NaN</td>\n",
       "      <td>1.8 barrels</td>\n",
       "      <td>40 barrels</td>\n",
       "      <td>1.7 barrels</td>\n",
       "    </tr>\n",
       "  </tbody>\n",
       "</table>\n",
       "</div>"
      ],
      "text/plain": [
       "                                                 0           1       2  \\\n",
       "0  1 barrel oil is approximately 159 litres of oil         NaN     NaN   \n",
       "1                                              NaN         NaN     NaN   \n",
       "2                                         material     Plastic   Glass   \n",
       "3                                     energy_saved    5774 Kwh  42 Kwh   \n",
       "4                                  crude_oil saved  16 barrels     NaN   \n",
       "\n",
       "               3                  4            5  \n",
       "0            NaN                NaN          NaN  \n",
       "1            NaN                NaN          NaN  \n",
       "2  Ferrous Metal  Non-Ferrous Metal        Paper  \n",
       "3        642 Kwh          14000 Kwh     4000 kWh  \n",
       "4    1.8 barrels         40 barrels  1.7 barrels  "
      ]
     },
     "execution_count": 33,
     "metadata": {},
     "output_type": "execute_result"
    }
   ],
   "source": [
    "energy.head()"
   ]
  },
  {
   "cell_type": "code",
   "execution_count": 34,
   "metadata": {
    "dc": {
     "key": "4"
    }
   },
   "outputs": [
    {
     "data": {
      "text/html": [
       "<div>\n",
       "<style scoped>\n",
       "    .dataframe tbody tr th:only-of-type {\n",
       "        vertical-align: middle;\n",
       "    }\n",
       "\n",
       "    .dataframe tbody tr th {\n",
       "        vertical-align: top;\n",
       "    }\n",
       "\n",
       "    .dataframe thead th {\n",
       "        text-align: right;\n",
       "    }\n",
       "</style>\n",
       "<table border=\"1\" class=\"dataframe\">\n",
       "  <thead>\n",
       "    <tr style=\"text-align: right;\">\n",
       "      <th></th>\n",
       "      <th>1</th>\n",
       "      <th>2</th>\n",
       "      <th>3</th>\n",
       "      <th>4</th>\n",
       "      <th>5</th>\n",
       "    </tr>\n",
       "    <tr>\n",
       "      <th>0</th>\n",
       "      <th></th>\n",
       "      <th></th>\n",
       "      <th></th>\n",
       "      <th></th>\n",
       "      <th></th>\n",
       "    </tr>\n",
       "  </thead>\n",
       "  <tbody>\n",
       "    <tr>\n",
       "      <th>1 barrel oil is approximately 159 litres of oil</th>\n",
       "      <td>NaN</td>\n",
       "      <td>NaN</td>\n",
       "      <td>NaN</td>\n",
       "      <td>NaN</td>\n",
       "      <td>NaN</td>\n",
       "    </tr>\n",
       "    <tr>\n",
       "      <th>NaN</th>\n",
       "      <td>NaN</td>\n",
       "      <td>NaN</td>\n",
       "      <td>NaN</td>\n",
       "      <td>NaN</td>\n",
       "      <td>NaN</td>\n",
       "    </tr>\n",
       "    <tr>\n",
       "      <th>material</th>\n",
       "      <td>Plastic</td>\n",
       "      <td>Glass</td>\n",
       "      <td>Ferrous Metal</td>\n",
       "      <td>Non-Ferrous Metal</td>\n",
       "      <td>Paper</td>\n",
       "    </tr>\n",
       "    <tr>\n",
       "      <th>energy_saved</th>\n",
       "      <td>5774 Kwh</td>\n",
       "      <td>42 Kwh</td>\n",
       "      <td>642 Kwh</td>\n",
       "      <td>14000 Kwh</td>\n",
       "      <td>4000 kWh</td>\n",
       "    </tr>\n",
       "    <tr>\n",
       "      <th>crude_oil saved</th>\n",
       "      <td>16 barrels</td>\n",
       "      <td>NaN</td>\n",
       "      <td>1.8 barrels</td>\n",
       "      <td>40 barrels</td>\n",
       "      <td>1.7 barrels</td>\n",
       "    </tr>\n",
       "  </tbody>\n",
       "</table>\n",
       "</div>"
      ],
      "text/plain": [
       "                                                          1       2  \\\n",
       "0                                                                     \n",
       "1 barrel oil is approximately 159 litres of oil         NaN     NaN   \n",
       "NaN                                                     NaN     NaN   \n",
       "material                                            Plastic   Glass   \n",
       "energy_saved                                       5774 Kwh  42 Kwh   \n",
       "crude_oil saved                                  16 barrels     NaN   \n",
       "\n",
       "                                                             3  \\\n",
       "0                                                                \n",
       "1 barrel oil is approximately 159 litres of oil            NaN   \n",
       "NaN                                                        NaN   \n",
       "material                                         Ferrous Metal   \n",
       "energy_saved                                           642 Kwh   \n",
       "crude_oil saved                                    1.8 barrels   \n",
       "\n",
       "                                                                 4  \\\n",
       "0                                                                    \n",
       "1 barrel oil is approximately 159 litres of oil                NaN   \n",
       "NaN                                                            NaN   \n",
       "material                                         Non-Ferrous Metal   \n",
       "energy_saved                                             14000 Kwh   \n",
       "crude_oil saved                                         40 barrels   \n",
       "\n",
       "                                                           5  \n",
       "0                                                             \n",
       "1 barrel oil is approximately 159 litres of oil          NaN  \n",
       "NaN                                                      NaN  \n",
       "material                                               Paper  \n",
       "energy_saved                                        4000 kWh  \n",
       "crude_oil saved                                  1.7 barrels  "
      ]
     },
     "execution_count": 34,
     "metadata": {},
     "output_type": "execute_result"
    }
   ],
   "source": [
    "energy.set_index('0', inplace =True)\n",
    "energy.head()"
   ]
  },
  {
   "cell_type": "code",
   "execution_count": 35,
   "metadata": {
    "dc": {
     "key": "4"
    }
   },
   "outputs": [
    {
     "data": {
      "text/html": [
       "<div>\n",
       "<style scoped>\n",
       "    .dataframe tbody tr th:only-of-type {\n",
       "        vertical-align: middle;\n",
       "    }\n",
       "\n",
       "    .dataframe tbody tr th {\n",
       "        vertical-align: top;\n",
       "    }\n",
       "\n",
       "    .dataframe thead th {\n",
       "        text-align: right;\n",
       "    }\n",
       "</style>\n",
       "<table border=\"1\" class=\"dataframe\">\n",
       "  <thead>\n",
       "    <tr style=\"text-align: right;\">\n",
       "      <th>0</th>\n",
       "      <th>1 barrel oil is approximately 159 litres of oil</th>\n",
       "      <th>nan</th>\n",
       "      <th>material</th>\n",
       "      <th>energy_saved</th>\n",
       "      <th>crude_oil saved</th>\n",
       "    </tr>\n",
       "  </thead>\n",
       "  <tbody>\n",
       "    <tr>\n",
       "      <th>1</th>\n",
       "      <td>NaN</td>\n",
       "      <td>NaN</td>\n",
       "      <td>Plastic</td>\n",
       "      <td>5774 Kwh</td>\n",
       "      <td>16 barrels</td>\n",
       "    </tr>\n",
       "    <tr>\n",
       "      <th>2</th>\n",
       "      <td>NaN</td>\n",
       "      <td>NaN</td>\n",
       "      <td>Glass</td>\n",
       "      <td>42 Kwh</td>\n",
       "      <td>NaN</td>\n",
       "    </tr>\n",
       "    <tr>\n",
       "      <th>3</th>\n",
       "      <td>NaN</td>\n",
       "      <td>NaN</td>\n",
       "      <td>Ferrous Metal</td>\n",
       "      <td>642 Kwh</td>\n",
       "      <td>1.8 barrels</td>\n",
       "    </tr>\n",
       "    <tr>\n",
       "      <th>4</th>\n",
       "      <td>NaN</td>\n",
       "      <td>NaN</td>\n",
       "      <td>Non-Ferrous Metal</td>\n",
       "      <td>14000 Kwh</td>\n",
       "      <td>40 barrels</td>\n",
       "    </tr>\n",
       "    <tr>\n",
       "      <th>5</th>\n",
       "      <td>NaN</td>\n",
       "      <td>NaN</td>\n",
       "      <td>Paper</td>\n",
       "      <td>4000 kWh</td>\n",
       "      <td>1.7 barrels</td>\n",
       "    </tr>\n",
       "  </tbody>\n",
       "</table>\n",
       "</div>"
      ],
      "text/plain": [
       "0 1 barrel oil is approximately 159 litres of oil  NaN           material  \\\n",
       "1                                             NaN  NaN            Plastic   \n",
       "2                                             NaN  NaN              Glass   \n",
       "3                                             NaN  NaN      Ferrous Metal   \n",
       "4                                             NaN  NaN  Non-Ferrous Metal   \n",
       "5                                             NaN  NaN              Paper   \n",
       "\n",
       "0 energy_saved crude_oil saved  \n",
       "1     5774 Kwh      16 barrels  \n",
       "2       42 Kwh             NaN  \n",
       "3      642 Kwh     1.8 barrels  \n",
       "4    14000 Kwh      40 barrels  \n",
       "5     4000 kWh     1.7 barrels  "
      ]
     },
     "execution_count": 35,
     "metadata": {},
     "output_type": "execute_result"
    }
   ],
   "source": [
    "energy = energy.T\n",
    "energy.head()"
   ]
  },
  {
   "cell_type": "code",
   "execution_count": 36,
   "metadata": {
    "collapsed": true,
    "dc": {
     "key": "4"
    }
   },
   "outputs": [],
   "source": [
    "energy.columns = ['1 barrel oil is approximately 159 litres of oil', 'nan', 'Waste_type', 'Energy_saved', 'Oil_saved']"
   ]
  },
  {
   "cell_type": "code",
   "execution_count": 37,
   "metadata": {
    "collapsed": true,
    "dc": {
     "key": "4"
    }
   },
   "outputs": [],
   "source": [
    "energy.drop(['1 barrel oil is approximately 159 litres of oil', 'nan'], axis=1, inplace=True)"
   ]
  },
  {
   "cell_type": "code",
   "execution_count": 38,
   "metadata": {
    "dc": {
     "key": "4"
    }
   },
   "outputs": [
    {
     "data": {
      "text/html": [
       "<div>\n",
       "<style scoped>\n",
       "    .dataframe tbody tr th:only-of-type {\n",
       "        vertical-align: middle;\n",
       "    }\n",
       "\n",
       "    .dataframe tbody tr th {\n",
       "        vertical-align: top;\n",
       "    }\n",
       "\n",
       "    .dataframe thead th {\n",
       "        text-align: right;\n",
       "    }\n",
       "</style>\n",
       "<table border=\"1\" class=\"dataframe\">\n",
       "  <thead>\n",
       "    <tr style=\"text-align: right;\">\n",
       "      <th></th>\n",
       "      <th>Waste_type</th>\n",
       "      <th>Energy_saved</th>\n",
       "      <th>Oil_saved</th>\n",
       "    </tr>\n",
       "  </thead>\n",
       "  <tbody>\n",
       "    <tr>\n",
       "      <th>1</th>\n",
       "      <td>Plastic</td>\n",
       "      <td>5774 Kwh</td>\n",
       "      <td>16 barrels</td>\n",
       "    </tr>\n",
       "    <tr>\n",
       "      <th>2</th>\n",
       "      <td>Glass</td>\n",
       "      <td>42 Kwh</td>\n",
       "      <td>NaN</td>\n",
       "    </tr>\n",
       "    <tr>\n",
       "      <th>3</th>\n",
       "      <td>Ferrous Metal</td>\n",
       "      <td>642 Kwh</td>\n",
       "      <td>1.8 barrels</td>\n",
       "    </tr>\n",
       "    <tr>\n",
       "      <th>4</th>\n",
       "      <td>Non-Ferrous Metal</td>\n",
       "      <td>14000 Kwh</td>\n",
       "      <td>40 barrels</td>\n",
       "    </tr>\n",
       "    <tr>\n",
       "      <th>5</th>\n",
       "      <td>Paper</td>\n",
       "      <td>4000 kWh</td>\n",
       "      <td>1.7 barrels</td>\n",
       "    </tr>\n",
       "  </tbody>\n",
       "</table>\n",
       "</div>"
      ],
      "text/plain": [
       "          Waste_type Energy_saved    Oil_saved\n",
       "1            Plastic     5774 Kwh   16 barrels\n",
       "2              Glass       42 Kwh          NaN\n",
       "3      Ferrous Metal      642 Kwh  1.8 barrels\n",
       "4  Non-Ferrous Metal    14000 Kwh   40 barrels\n",
       "5              Paper     4000 kWh  1.7 barrels"
      ]
     },
     "execution_count": 38,
     "metadata": {},
     "output_type": "execute_result"
    }
   ],
   "source": [
    "energy.head()"
   ]
  },
  {
   "cell_type": "code",
   "execution_count": 39,
   "metadata": {
    "dc": {
     "key": "4"
    }
   },
   "outputs": [
    {
     "data": {
      "text/html": [
       "<div>\n",
       "<style scoped>\n",
       "    .dataframe tbody tr th:only-of-type {\n",
       "        vertical-align: middle;\n",
       "    }\n",
       "\n",
       "    .dataframe tbody tr th {\n",
       "        vertical-align: top;\n",
       "    }\n",
       "\n",
       "    .dataframe thead th {\n",
       "        text-align: right;\n",
       "    }\n",
       "</style>\n",
       "<table border=\"1\" class=\"dataframe\">\n",
       "  <thead>\n",
       "    <tr style=\"text-align: right;\">\n",
       "      <th></th>\n",
       "      <th>Waste_type</th>\n",
       "      <th>Energy_saved</th>\n",
       "      <th>Oil_saved</th>\n",
       "    </tr>\n",
       "  </thead>\n",
       "  <tbody>\n",
       "    <tr>\n",
       "      <th>1</th>\n",
       "      <td>Plastic</td>\n",
       "      <td>5774 Kwh</td>\n",
       "      <td>16 barrels</td>\n",
       "    </tr>\n",
       "    <tr>\n",
       "      <th>2</th>\n",
       "      <td>Glass</td>\n",
       "      <td>42 Kwh</td>\n",
       "      <td>NaN</td>\n",
       "    </tr>\n",
       "    <tr>\n",
       "      <th>3</th>\n",
       "      <td>Ferrous Metal</td>\n",
       "      <td>642 Kwh</td>\n",
       "      <td>1.8 barrels</td>\n",
       "    </tr>\n",
       "    <tr>\n",
       "      <th>4</th>\n",
       "      <td>Non-Ferrous Metal</td>\n",
       "      <td>14000 Kwh</td>\n",
       "      <td>40 barrels</td>\n",
       "    </tr>\n",
       "  </tbody>\n",
       "</table>\n",
       "</div>"
      ],
      "text/plain": [
       "          Waste_type Energy_saved    Oil_saved\n",
       "1            Plastic     5774 Kwh   16 barrels\n",
       "2              Glass       42 Kwh          NaN\n",
       "3      Ferrous Metal      642 Kwh  1.8 barrels\n",
       "4  Non-Ferrous Metal    14000 Kwh   40 barrels"
      ]
     },
     "execution_count": 39,
     "metadata": {},
     "output_type": "execute_result"
    }
   ],
   "source": [
    "energy = energy[(energy['Waste_type'] == 'Plastic')  | (energy['Waste_type'] == 'Glass') | (energy['Waste_type'] == 'Ferrous Metal') | (energy['Waste_type'] == 'Non-Ferrous Metal')]\n",
    "energy"
   ]
  },
  {
   "cell_type": "code",
   "execution_count": 40,
   "metadata": {
    "collapsed": true,
    "dc": {
     "key": "4"
    }
   },
   "outputs": [],
   "source": [
    "energy.drop(\"Oil_saved\",axis=1, inplace = True)"
   ]
  },
  {
   "cell_type": "code",
   "execution_count": 41,
   "metadata": {
    "dc": {
     "key": "4"
    }
   },
   "outputs": [
    {
     "data": {
      "text/html": [
       "<div>\n",
       "<style scoped>\n",
       "    .dataframe tbody tr th:only-of-type {\n",
       "        vertical-align: middle;\n",
       "    }\n",
       "\n",
       "    .dataframe tbody tr th {\n",
       "        vertical-align: top;\n",
       "    }\n",
       "\n",
       "    .dataframe thead th {\n",
       "        text-align: right;\n",
       "    }\n",
       "</style>\n",
       "<table border=\"1\" class=\"dataframe\">\n",
       "  <thead>\n",
       "    <tr style=\"text-align: right;\">\n",
       "      <th></th>\n",
       "      <th>Waste_type</th>\n",
       "      <th>Energy_saved</th>\n",
       "    </tr>\n",
       "  </thead>\n",
       "  <tbody>\n",
       "    <tr>\n",
       "      <th>1</th>\n",
       "      <td>Plastic</td>\n",
       "      <td>5774 Kwh</td>\n",
       "    </tr>\n",
       "    <tr>\n",
       "      <th>2</th>\n",
       "      <td>Glass</td>\n",
       "      <td>42 Kwh</td>\n",
       "    </tr>\n",
       "    <tr>\n",
       "      <th>3</th>\n",
       "      <td>Ferrous Metal</td>\n",
       "      <td>642 Kwh</td>\n",
       "    </tr>\n",
       "    <tr>\n",
       "      <th>4</th>\n",
       "      <td>Non-Ferrous Metal</td>\n",
       "      <td>14000 Kwh</td>\n",
       "    </tr>\n",
       "  </tbody>\n",
       "</table>\n",
       "</div>"
      ],
      "text/plain": [
       "          Waste_type Energy_saved\n",
       "1            Plastic     5774 Kwh\n",
       "2              Glass       42 Kwh\n",
       "3      Ferrous Metal      642 Kwh\n",
       "4  Non-Ferrous Metal    14000 Kwh"
      ]
     },
     "execution_count": 41,
     "metadata": {},
     "output_type": "execute_result"
    }
   ],
   "source": [
    "energy"
   ]
  },
  {
   "cell_type": "markdown",
   "metadata": {
    "dc": {
     "key": "4"
    }
   },
   "source": [
    "# Comining both the waste dataset with energy dataset "
   ]
  },
  {
   "cell_type": "code",
   "execution_count": 42,
   "metadata": {
    "dc": {
     "key": "4"
    }
   },
   "outputs": [
    {
     "data": {
      "text/html": [
       "<div>\n",
       "<style scoped>\n",
       "    .dataframe tbody tr th:only-of-type {\n",
       "        vertical-align: middle;\n",
       "    }\n",
       "\n",
       "    .dataframe tbody tr th {\n",
       "        vertical-align: top;\n",
       "    }\n",
       "\n",
       "    .dataframe thead th {\n",
       "        text-align: right;\n",
       "    }\n",
       "</style>\n",
       "<table border=\"1\" class=\"dataframe\">\n",
       "  <thead>\n",
       "    <tr style=\"text-align: right;\">\n",
       "      <th></th>\n",
       "      <th></th>\n",
       "      <th>Total_recycled</th>\n",
       "    </tr>\n",
       "    <tr>\n",
       "      <th>Year</th>\n",
       "      <th>Waste_type</th>\n",
       "      <th></th>\n",
       "    </tr>\n",
       "  </thead>\n",
       "  <tbody>\n",
       "    <tr>\n",
       "      <th rowspan=\"2\" valign=\"top\">2015</th>\n",
       "      <th>Glass</th>\n",
       "      <td>14600.0</td>\n",
       "    </tr>\n",
       "    <tr>\n",
       "      <th>Plastics</th>\n",
       "      <td>57800.0</td>\n",
       "    </tr>\n",
       "    <tr>\n",
       "      <th rowspan=\"2\" valign=\"top\">2016</th>\n",
       "      <th>Glass</th>\n",
       "      <td>14700.0</td>\n",
       "    </tr>\n",
       "    <tr>\n",
       "      <th>Plastics</th>\n",
       "      <td>59500.0</td>\n",
       "    </tr>\n",
       "    <tr>\n",
       "      <th>2017</th>\n",
       "      <th>Glass</th>\n",
       "      <td>12400.0</td>\n",
       "    </tr>\n",
       "    <tr>\n",
       "      <th rowspan=\"4\" valign=\"top\">2018</th>\n",
       "      <th>Ferrous Metal</th>\n",
       "      <td>126000.0</td>\n",
       "    </tr>\n",
       "    <tr>\n",
       "      <th>Glass</th>\n",
       "      <td>12000.0</td>\n",
       "    </tr>\n",
       "    <tr>\n",
       "      <th>Non-Ferrous Metal</th>\n",
       "      <td>170000.0</td>\n",
       "    </tr>\n",
       "    <tr>\n",
       "      <th>Plastics</th>\n",
       "      <td>41000.0</td>\n",
       "    </tr>\n",
       "    <tr>\n",
       "      <th rowspan=\"4\" valign=\"top\">2019</th>\n",
       "      <th>Ferrous Metal</th>\n",
       "      <td>1270000.0</td>\n",
       "    </tr>\n",
       "    <tr>\n",
       "      <th>Glass</th>\n",
       "      <td>11000.0</td>\n",
       "    </tr>\n",
       "    <tr>\n",
       "      <th>Non-Ferrous Metal</th>\n",
       "      <td>124000.0</td>\n",
       "    </tr>\n",
       "    <tr>\n",
       "      <th>Plastics</th>\n",
       "      <td>37000.0</td>\n",
       "    </tr>\n",
       "  </tbody>\n",
       "</table>\n",
       "</div>"
      ],
      "text/plain": [
       "                        Total_recycled\n",
       "Year Waste_type                       \n",
       "2015 Glass                     14600.0\n",
       "     Plastics                  57800.0\n",
       "2016 Glass                     14700.0\n",
       "     Plastics                  59500.0\n",
       "2017 Glass                     12400.0\n",
       "2018 Ferrous Metal            126000.0\n",
       "     Glass                     12000.0\n",
       "     Non-Ferrous Metal        170000.0\n",
       "     Plastics                  41000.0\n",
       "2019 Ferrous Metal           1270000.0\n",
       "     Glass                     11000.0\n",
       "     Non-Ferrous Metal        124000.0\n",
       "     Plastics                  37000.0"
      ]
     },
     "execution_count": 42,
     "metadata": {},
     "output_type": "execute_result"
    }
   ],
   "source": [
    "waste"
   ]
  },
  {
   "cell_type": "code",
   "execution_count": 43,
   "metadata": {
    "dc": {
     "key": "4"
    }
   },
   "outputs": [
    {
     "data": {
      "text/html": [
       "<div>\n",
       "<style scoped>\n",
       "    .dataframe tbody tr th:only-of-type {\n",
       "        vertical-align: middle;\n",
       "    }\n",
       "\n",
       "    .dataframe tbody tr th {\n",
       "        vertical-align: top;\n",
       "    }\n",
       "\n",
       "    .dataframe thead th {\n",
       "        text-align: right;\n",
       "    }\n",
       "</style>\n",
       "<table border=\"1\" class=\"dataframe\">\n",
       "  <thead>\n",
       "    <tr style=\"text-align: right;\">\n",
       "      <th></th>\n",
       "      <th>Waste_type</th>\n",
       "      <th>Energy_saved</th>\n",
       "    </tr>\n",
       "  </thead>\n",
       "  <tbody>\n",
       "    <tr>\n",
       "      <th>1</th>\n",
       "      <td>Plastic</td>\n",
       "      <td>5774 Kwh</td>\n",
       "    </tr>\n",
       "    <tr>\n",
       "      <th>2</th>\n",
       "      <td>Glass</td>\n",
       "      <td>42 Kwh</td>\n",
       "    </tr>\n",
       "    <tr>\n",
       "      <th>3</th>\n",
       "      <td>Ferrous Metal</td>\n",
       "      <td>642 Kwh</td>\n",
       "    </tr>\n",
       "    <tr>\n",
       "      <th>4</th>\n",
       "      <td>Non-Ferrous Metal</td>\n",
       "      <td>14000 Kwh</td>\n",
       "    </tr>\n",
       "  </tbody>\n",
       "</table>\n",
       "</div>"
      ],
      "text/plain": [
       "          Waste_type Energy_saved\n",
       "1            Plastic     5774 Kwh\n",
       "2              Glass       42 Kwh\n",
       "3      Ferrous Metal      642 Kwh\n",
       "4  Non-Ferrous Metal    14000 Kwh"
      ]
     },
     "execution_count": 43,
     "metadata": {},
     "output_type": "execute_result"
    }
   ],
   "source": [
    "energy"
   ]
  },
  {
   "cell_type": "markdown",
   "metadata": {
    "collapsed": true,
    "dc": {
     "key": "4"
    },
    "hide": true,
    "tags": [
     "tests"
    ]
   },
   "source": [
    "> We can drop out some columns will not be used "
   ]
  }
 ],
 "metadata": {
  "kernelspec": {
   "display_name": "Python 3",
   "language": "python",
   "name": "python3"
  },
  "language_info": {
   "codemirror_mode": {
    "name": "ipython",
    "version": 3
   },
   "file_extension": ".py",
   "mimetype": "text/x-python",
   "name": "python",
   "nbconvert_exporter": "python",
   "pygments_lexer": "ipython3",
   "version": "3.8.5"
  }
 },
 "nbformat": 4,
 "nbformat_minor": 2
}
